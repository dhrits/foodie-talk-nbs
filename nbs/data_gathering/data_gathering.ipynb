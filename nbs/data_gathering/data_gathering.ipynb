{
 "cells": [
  {
   "cell_type": "markdown",
   "id": "38427251-ef50-4980-982d-12fff583cb37",
   "metadata": {},
   "source": [
    "## Introduction\n",
    "This notebook creates a subset of the [Yelp Reviews Dataset](https://business.yelp.com/data/resources/open-dataset/). This is an **research-only** educational database released by Yelp for the purposes of education. More details about the license and terms of use of the dataset can be found in the [description of the dataset](../../data/Yelp_Dataset_Documentation_and_ToS_copy.pdf)"
   ]
  },
  {
   "cell_type": "code",
   "execution_count": 1,
   "id": "6f921914-e279-4b5f-ba78-060c73ba8dd0",
   "metadata": {},
   "outputs": [],
   "source": [
    "import os\n",
    "\n",
    "DATA_ROOT = \"../../data/yelp/Yelp_JSON/\"\n",
    "REVIEWS = os.path.join(DATA_ROOT, \"yelp_academic_dataset_review.json\")\n",
    "BUSINESS = os.path.join(DATA_ROOT, \"yelp_academic_dataset_business.json\")\n",
    "CHECKIN = os.path.join(DATA_ROOT, \"yelp_academic_dataset_checkin.json\")\n",
    "TIP = os.path.join(DATA_ROOT, \"yelp_academic_dataset_tip.json\")\n",
    "USER = os.path.join(DATA_ROOT, \"yelp_academic_dataset_user.json\")"
   ]
  },
  {
   "cell_type": "code",
   "execution_count": 2,
   "id": "077d94b4",
   "metadata": {},
   "outputs": [],
   "source": [
    "# Use a small subset of the data for this certification challenge. All of the data is not needed\n",
    "SUBSET_SIZE = 100_000"
   ]
  },
  {
   "cell_type": "code",
   "execution_count": 17,
   "id": "426efd30",
   "metadata": {},
   "outputs": [],
   "source": [
    "from datasets import load_dataset, Dataset\n",
    "import pandas as pd\n",
    "\n",
    "review_dataset = load_dataset(\"json\", data_files=REVIEWS, split=\"train\")\n",
    "business_dataset = pd.read_json(BUSINESS, lines=True)"
   ]
  },
  {
   "cell_type": "code",
   "execution_count": 18,
   "id": "a94799e1",
   "metadata": {},
   "outputs": [],
   "source": [
    "business_dataset['attributes'] = business_dataset['attributes'].apply(lambda x: str(x))"
   ]
  },
  {
   "cell_type": "code",
   "execution_count": 20,
   "id": "a5fd104b",
   "metadata": {},
   "outputs": [],
   "source": [
    "business_dataset = business_dataset[business_dataset['attributes'].str.contains('Restaurant')]"
   ]
  },
  {
   "cell_type": "code",
   "execution_count": 21,
   "id": "467ee2da",
   "metadata": {},
   "outputs": [],
   "source": [
    "restaurant_ids = set(business_dataset['business_id'].tolist())"
   ]
  },
  {
   "cell_type": "code",
   "execution_count": 22,
   "id": "5b9a256e",
   "metadata": {},
   "outputs": [
    {
     "data": {
      "application/vnd.jupyter.widget-view+json": {
       "model_id": "293078c0c8ff44ccb94187b6e8b240a1",
       "version_major": 2,
       "version_minor": 0
      },
      "text/plain": [
       "Filter:   0%|          | 0/6990280 [00:00<?, ? examples/s]"
      ]
     },
     "metadata": {},
     "output_type": "display_data"
    }
   ],
   "source": [
    "review_dataset = review_dataset.filter(lambda x: x['business_id'] in restaurant_ids)"
   ]
  },
  {
   "cell_type": "code",
   "execution_count": 25,
   "id": "f59d6373",
   "metadata": {},
   "outputs": [],
   "source": [
    "business_dataset = business_dataset.set_index('business_id')"
   ]
  },
  {
   "cell_type": "code",
   "execution_count": 27,
   "id": "ba9199d6",
   "metadata": {},
   "outputs": [],
   "source": [
    "def denormalize_reviews(reviews):\n",
    "    \"\"\"Performs a simple and selective join between review and business data.\n",
    "    The result is that the business name and address is included in each review.\"\"\"\n",
    "    businesses = [business_dataset.loc[business_id] for business_id in reviews['business_id']]\n",
    "    business_names = [business['name'] for business in businesses]\n",
    "    business_addresses = [business['address'] for business in businesses]\n",
    "    business_cities = [business['city'] for business in businesses]\n",
    "    business_states = [business['state'] for business in businesses]\n",
    "    business_postal_codes = [business['postal_code'] for business in businesses]\n",
    "    return {'business_name': business_names,\n",
    "            'business_address': business_addresses,\n",
    "            'business_city': business_cities,\n",
    "            'business_state': business_states,\n",
    "            'business_postal_code': business_postal_codes}"
   ]
  },
  {
   "cell_type": "code",
   "execution_count": 35,
   "id": "296426f2",
   "metadata": {},
   "outputs": [],
   "source": [
    "review_subset = review_dataset.shuffle().select(range(SUBSET_SIZE))"
   ]
  },
  {
   "cell_type": "code",
   "execution_count": 36,
   "id": "41742890",
   "metadata": {},
   "outputs": [
    {
     "data": {
      "application/vnd.jupyter.widget-view+json": {
       "model_id": "99c0f5b8a16047258a816317677fd6e8",
       "version_major": 2,
       "version_minor": 0
      },
      "text/plain": [
       "Map:   0%|          | 0/100000 [00:00<?, ? examples/s]"
      ]
     },
     "metadata": {},
     "output_type": "display_data"
    }
   ],
   "source": [
    "review_subset = review_subset.map(denormalize_reviews, batched=True)"
   ]
  },
  {
   "cell_type": "code",
   "execution_count": 41,
   "id": "de67e273",
   "metadata": {},
   "outputs": [
    {
     "data": {
      "application/vnd.jupyter.widget-view+json": {
       "model_id": "478fc87a211448b5bc9a647ad3251a39",
       "version_major": 2,
       "version_minor": 0
      },
      "text/plain": [
       "Creating json from Arrow format:   0%|          | 0/100 [00:00<?, ?ba/s]"
      ]
     },
     "metadata": {},
     "output_type": "display_data"
    },
    {
     "data": {
      "text/plain": [
       "89176858"
      ]
     },
     "execution_count": 41,
     "metadata": {},
     "output_type": "execute_result"
    }
   ],
   "source": [
    "review_subset.to_json(f\"{DATA_ROOT}/review_subset_denormalized_{SUBSET_SIZE}.json\")"
   ]
  },
  {
   "cell_type": "code",
   "execution_count": 32,
   "id": "5409ca2d",
   "metadata": {},
   "outputs": [
    {
     "data": {
      "application/vnd.jupyter.widget-view+json": {
       "model_id": "99b5a66eb6ce462491ed405748104c27",
       "version_major": 2,
       "version_minor": 0
      },
      "text/plain": [
       "Generating train split: 0 examples [00:00, ? examples/s]"
      ]
     },
     "metadata": {},
     "output_type": "display_data"
    }
   ],
   "source": [
    "review_subset = load_dataset(\"json\", data_files=f\"{DATA_ROOT}/review_subset_denormalized_{SUBSET_SIZE}.json\", split=\"train\")"
   ]
  },
  {
   "cell_type": "code",
   "execution_count": 39,
   "id": "e36d5d47",
   "metadata": {},
   "outputs": [],
   "source": [
    "def map_text_column(review):\n",
    "    \"\"\"Creates a single text column with all review and business information.\"\"\"\n",
    "    review_text = f\"\"\"\n",
    "    Restaurant Name: {review['business_name']}\n",
    "    Address: {review['business_address']}\n",
    "    City: {review['business_city']}\n",
    "    State: {review['business_state']}\n",
    "    Postal Code: {review['business_postal_code']}\n",
    "    Review: \n",
    "    {review['text']}\n",
    "    \"\"\"\n",
    "    return {\n",
    "        \"full_review\": review_text\n",
    "    }\n"
   ]
  },
  {
   "cell_type": "code",
   "execution_count": 40,
   "id": "88dba48b",
   "metadata": {},
   "outputs": [
    {
     "data": {
      "application/vnd.jupyter.widget-view+json": {
       "model_id": "d31305f847f744028eb48851aa24ad66",
       "version_major": 2,
       "version_minor": 0
      },
      "text/plain": [
       "Map:   0%|          | 0/100000 [00:00<?, ? examples/s]"
      ]
     },
     "metadata": {},
     "output_type": "display_data"
    }
   ],
   "source": [
    "review_subset_text = review_subset.map(map_text_column)"
   ]
  },
  {
   "cell_type": "code",
   "execution_count": 42,
   "id": "e6be9f56",
   "metadata": {},
   "outputs": [],
   "source": [
    "columns_to_remove = list(set(review_subset_text.features) - set(['full_review']))\n",
    "review_subset_text = review_subset_text.remove_columns(columns_to_remove)"
   ]
  },
  {
   "cell_type": "code",
   "execution_count": 43,
   "id": "fe05049f",
   "metadata": {},
   "outputs": [
    {
     "data": {
      "application/vnd.jupyter.widget-view+json": {
       "model_id": "9b52947b330e40639f12dda611af92c6",
       "version_major": 2,
       "version_minor": 0
      },
      "text/plain": [
       "Creating json from Arrow format:   0%|          | 0/100 [00:00<?, ?ba/s]"
      ]
     },
     "metadata": {},
     "output_type": "display_data"
    },
    {
     "data": {
      "text/plain": [
       "73574712"
      ]
     },
     "execution_count": 43,
     "metadata": {},
     "output_type": "execute_result"
    }
   ],
   "source": [
    "review_subset_text.to_json(f\"{DATA_ROOT}/review_subset_text_{SUBSET_SIZE}.json\")"
   ]
  },
  {
   "cell_type": "code",
   "execution_count": 44,
   "id": "e0b194dd",
   "metadata": {},
   "outputs": [
    {
     "data": {
      "application/vnd.jupyter.widget-view+json": {
       "model_id": "e0f58a3c028840cf80b8e95efe6320b4",
       "version_major": 2,
       "version_minor": 0
      },
      "text/plain": [
       "Generating train split: 0 examples [00:00, ? examples/s]"
      ]
     },
     "metadata": {},
     "output_type": "display_data"
    },
    {
     "data": {
      "application/vnd.jupyter.widget-view+json": {
       "model_id": "9b0d2f2fa6024ac48becf47a566eb776",
       "version_major": 2,
       "version_minor": 0
      },
      "text/plain": [
       "Saving the dataset (0/1 shards):   0%|          | 0/100000 [00:00<?, ? examples/s]"
      ]
     },
     "metadata": {},
     "output_type": "display_data"
    }
   ],
   "source": [
    "review_subset_text = load_dataset(\"json\", data_files=f\"{DATA_ROOT}/review_subset_text_{SUBSET_SIZE}.json\", split=\"train\")\n",
    "review_subset_text.save_to_disk(f\"{DATA_ROOT}/review_subset_text_{SUBSET_SIZE}.hf\")"
   ]
  },
  {
   "cell_type": "code",
   "execution_count": 45,
   "id": "e23784c1",
   "metadata": {},
   "outputs": [
    {
     "data": {
      "application/vnd.jupyter.widget-view+json": {
       "model_id": "24dbc70a4e2c496a87a0dbec73fcb1cb",
       "version_major": 2,
       "version_minor": 0
      },
      "text/plain": [
       "Map:   0%|          | 0/5999608 [00:00<?, ? examples/s]"
      ]
     },
     "metadata": {},
     "output_type": "display_data"
    }
   ],
   "source": [
    "review_dataset = review_dataset.map(denormalize_reviews, batched=True)"
   ]
  },
  {
   "cell_type": "code",
   "execution_count": 46,
   "id": "6de83ea4",
   "metadata": {},
   "outputs": [
    {
     "data": {
      "application/vnd.jupyter.widget-view+json": {
       "model_id": "923f5fdf8fbd48888d21909dac98307c",
       "version_major": 2,
       "version_minor": 0
      },
      "text/plain": [
       "Map:   0%|          | 0/5999608 [00:00<?, ? examples/s]"
      ]
     },
     "metadata": {},
     "output_type": "display_data"
    }
   ],
   "source": [
    "review_text = review_dataset.map(map_text_column)"
   ]
  },
  {
   "cell_type": "code",
   "execution_count": 47,
   "id": "e51897c8",
   "metadata": {},
   "outputs": [],
   "source": [
    "columns_to_remove = list(set(review_text.features) - set(['full_review']))\n",
    "review_text = review_text.remove_columns(columns_to_remove)"
   ]
  },
  {
   "cell_type": "code",
   "execution_count": 48,
   "id": "cf285ddb",
   "metadata": {},
   "outputs": [
    {
     "data": {
      "application/vnd.jupyter.widget-view+json": {
       "model_id": "6c25c3db15414ab5a0ccaa08c71a6311",
       "version_major": 2,
       "version_minor": 0
      },
      "text/plain": [
       "Creating json from Arrow format:   0%|          | 0/6000 [00:00<?, ?ba/s]"
      ]
     },
     "metadata": {},
     "output_type": "display_data"
    },
    {
     "data": {
      "application/vnd.jupyter.widget-view+json": {
       "model_id": "4a59571148574efd838fb11f940e72fd",
       "version_major": 2,
       "version_minor": 0
      },
      "text/plain": [
       "Saving the dataset (0/9 shards):   0%|          | 0/5999608 [00:00<?, ? examples/s]"
      ]
     },
     "metadata": {},
     "output_type": "display_data"
    }
   ],
   "source": [
    "review_text.to_json(f\"{DATA_ROOT}/review_text.jsonl\")\n",
    "review_text.save_to_disk(f\"{DATA_ROOT}/review_text.hf\")"
   ]
  },
  {
   "cell_type": "code",
   "execution_count": null,
   "id": "d9e0e98c",
   "metadata": {},
   "outputs": [],
   "source": []
  }
 ],
 "metadata": {
  "kernelspec": {
   "display_name": ".venv",
   "language": "python",
   "name": "python3"
  },
  "language_info": {
   "codemirror_mode": {
    "name": "ipython",
    "version": 3
   },
   "file_extension": ".py",
   "mimetype": "text/x-python",
   "name": "python",
   "nbconvert_exporter": "python",
   "pygments_lexer": "ipython3",
   "version": "3.13.2"
  }
 },
 "nbformat": 4,
 "nbformat_minor": 5
}
