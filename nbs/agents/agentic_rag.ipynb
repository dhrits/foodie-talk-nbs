{
 "cells": [
  {
   "cell_type": "markdown",
   "metadata": {},
   "source": [
    "### Foodie-Talk Agentic RAG\n",
    "This notebook builds out the LangGraph graph to help answer the user's food specofic questions. "
   ]
  },
  {
   "cell_type": "code",
   "execution_count": 1,
   "metadata": {},
   "outputs": [],
   "source": [
    "import os\n",
    "import tiktoken\n",
    "from typing import Any, Callable, List, Optional, TypedDict, Union\n",
    "\n",
    "from langchain.text_splitter import RecursiveCharacterTextSplitter\n",
    "from langchain.document_loaders import PyMuPDFLoader\n",
    "from langchain_community.vectorstores import Qdrant\n",
    "from qdrant_client import QdrantClient\n",
    "from langchain_qdrant import QdrantVectorStore\n",
    "from qdrant_client.http.models import Distance, VectorParams\n",
    "from langchain_core.prompts import ChatPromptTemplate\n",
    "from langchain_openai import ChatOpenAI\n",
    "from operator import itemgetter\n",
    "from langchain.schema.output_parser import StrOutputParser\n",
    "from langchain_community.tools import TavilySearchResults\n",
    "\n",
    "\n",
    "from langchain.agents import AgentExecutor, create_openai_functions_agent\n",
    "from langchain.output_parsers.openai_functions import JsonOutputFunctionsParser\n",
    "from langchain_core.prompts import ChatPromptTemplate, MessagesPlaceholder\n",
    "from langchain_core.messages import AIMessage, BaseMessage, HumanMessage\n",
    "from langchain_core.runnables import Runnable\n",
    "from langchain_core.tools import BaseTool\n",
    "from langchain_openai import ChatOpenAI\n",
    "\n",
    "from langgraph.graph import START, END, StateGraph"
   ]
  },
  {
   "cell_type": "code",
   "execution_count": 2,
   "metadata": {},
   "outputs": [],
   "source": [
    "from dotenv import load_dotenv\n",
    "_ = load_dotenv()"
   ]
  },
  {
   "cell_type": "code",
   "execution_count": 3,
   "metadata": {},
   "outputs": [],
   "source": [
    "import nest_asyncio\n",
    "nest_asyncio.apply()"
   ]
  },
  {
   "cell_type": "code",
   "execution_count": 4,
   "metadata": {},
   "outputs": [],
   "source": [
    "from typing import TypedDict, Annotated, Tuple, Dict, List\n",
    "from langgraph.graph.message import add_messages\n",
    "from langchain.schema import Document\n",
    "import operator\n",
    "from langchain_core.messages import BaseMessage\n",
    "\n",
    "\n",
    "class AgentState(TypedDict):\n",
    "  messages: Annotated[list, add_messages]\n",
    "  search_query: str\n",
    "  context: List[Document]\n",
    "  search_results:Tuple[Union[List[Dict[str, str]], str], Dict]"
   ]
  },
  {
   "cell_type": "code",
   "execution_count": 5,
   "metadata": {},
   "outputs": [],
   "source": [
    "from langchain_huggingface.embeddings import HuggingFaceEndpointEmbeddings\n",
    "\n",
    "EMBED_MODEL_URL = \"https://klnki3w1q88gr09t.us-east-1.aws.endpoints.huggingface.cloud\"\n",
    "\n",
    "embeddings = HuggingFaceEndpointEmbeddings(\n",
    "    model=EMBED_MODEL_URL,\n",
    "    task=\"feature-extraction\",\n",
    "    huggingfacehub_api_token=os.environ[\"HF_TOKEN\"],\n",
    "    )"
   ]
  },
  {
   "cell_type": "code",
   "execution_count": 6,
   "metadata": {},
   "outputs": [
    {
     "name": "stderr",
     "output_type": "stream",
     "text": [
      "/Users/deman/Dev/Maven/MavenAIBootcamp6/AIE6-Certification-Challenge/.venv/lib/python3.13/site-packages/huggingface_hub/utils/_deprecation.py:131: FutureWarning: 'post' (from 'huggingface_hub.inference._client') is deprecated and will be removed from version '0.31.0'. Making direct POST requests to the inference server is not supported anymore. Please use task methods instead (e.g. `InferenceClient.chat_completion`). If your use case is not supported, please open an issue in https://github.com/huggingface/huggingface_hub.\n",
      "  warnings.warn(warning_message, FutureWarning)\n"
     ]
    }
   ],
   "source": [
    "client = QdrantClient(\n",
    "    url=os.environ.get('QDRANT_DB_BITTER_MAMMAL'), # Name of the qdrant cluster is bitter_mammal\n",
    "    api_key=os.environ.get('QDRANT_API_KEY_BITTER_MAMMAL'),\n",
    ")\n",
    "vector_store = QdrantVectorStore(\n",
    "    client=client,\n",
    "    collection_name=\"yelp_reviews\",\n",
    "    embedding=embeddings,\n",
    ")\n",
    "qdrant_retriever = vector_store.as_retriever()"
   ]
  },
  {
   "cell_type": "code",
   "execution_count": 7,
   "metadata": {},
   "outputs": [],
   "source": [
    "# RAG Prompt\n",
    "RAG_PROMPT = \"\"\"\n",
    "CONTEXT:\n",
    "{context}\n",
    "\n",
    "QUERY:\n",
    "{question}\n",
    "\n",
    "You are a helpful assistant. Use the available context to answer the question. If you can't answer the question, say you don't know.\n",
    "\"\"\"\n",
    "\n",
    "rag_prompt = ChatPromptTemplate.from_template(RAG_PROMPT)"
   ]
  },
  {
   "cell_type": "code",
   "execution_count": 8,
   "metadata": {},
   "outputs": [],
   "source": [
    "from langchain_openai import ChatOpenAI\n",
    "\n",
    "openai_chat_model = ChatOpenAI(model=\"gpt-4.1-mini\")"
   ]
  },
  {
   "cell_type": "code",
   "execution_count": 9,
   "metadata": {},
   "outputs": [],
   "source": [
    "from operator import itemgetter\n",
    "from langchain.schema.output_parser import StrOutputParser\n",
    "\n",
    "rag_chain = (\n",
    "    {\"context\": itemgetter(\"question\") | qdrant_retriever, \"question\": itemgetter(\"question\")}\n",
    "    | rag_prompt | openai_chat_model | StrOutputParser()\n",
    ")"
   ]
  },
  {
   "cell_type": "code",
   "execution_count": 10,
   "metadata": {},
   "outputs": [],
   "source": [
    "ASSISTANT_PROMPT = \"\"\"\n",
    "You are a foodie assistant. You can answer user's questions about food and restaurants.\n",
    "The user may occasionally ask you questions followed by a context which you can rely on to\n",
    "answer the questions. If the user has provided context, then use it to answer the question.\n",
    "\n",
    "If the question is not related to food or restaurants, you can explain your purpose to the user.\n",
    "If the user insists on an unrelated question, you must say \"I'm just a foodie-assistant, I can't answer that.\"\n",
    "\"\"\"\n",
    "\n",
    "USER_PROMPT = \"\"\"\n",
    "{question}\n",
    "\n",
    "{context}\n",
    "\"\"\""
   ]
  },
  {
   "cell_type": "code",
   "execution_count": 11,
   "metadata": {},
   "outputs": [],
   "source": [
    "ROUTER_PROMPT = \"\"\"\n",
    "You are an intelligent router. You are given below a conversation between a user and an assistant.\n",
    "Analyze the conversation and answer based on the following instructions:\n",
    "1.Decide if the user's latest message needs additional context gathered from the Internet \n",
    "or a database or restuarant names, locations and reviews. If so, answer ONLY with a SINGLE WORD: \"CONTEXT\"\n",
    "2. Otherwise, answer ONLY with the SINGLE WORD: \"ASSISTANT\"\n",
    "\n",
    "Here is the conversation between the user and the assistant:\n",
    "\n",
    "{messages}\n",
    "\"\"\"\n",
    "\n",
    "router_prompt = ChatPromptTemplate.from_template(ROUTER_PROMPT)"
   ]
  },
  {
   "cell_type": "code",
   "execution_count": 12,
   "metadata": {},
   "outputs": [],
   "source": [
    "SEARCH_FORMULATOR_PROMPT = \"\"\"\n",
    "You are an expert at formulating search queries. You are given a history of interactions between\n",
    "a user and an AI assistant. Forcus on the most recent user messages and formulate an independent search query\n",
    "which can help answer the user's question. Respond ONLY with the search query text.\n",
    "\n",
    "Here is the conversation between the user and the assistant:\n",
    "\n",
    "{messages}\n",
    "\"\"\"\n",
    "search_formulator_prompt = ChatPromptTemplate.from_template(SEARCH_FORMULATOR_PROMPT)\n"
   ]
  },
  {
   "cell_type": "code",
   "execution_count": 13,
   "metadata": {},
   "outputs": [],
   "source": [
    "def router(state: AgentState):\n",
    "    chat_model = ChatOpenAI(model=\"gpt-4.1-mini\")\n",
    "    router_chain = router_prompt | chat_model | StrOutputParser()\n",
    "    router_answer = router_chain.invoke(state[\"messages\"])\n",
    "    return router_answer"
   ]
  },
  {
   "cell_type": "code",
   "execution_count": 14,
   "metadata": {},
   "outputs": [],
   "source": [
    "def search_formulator(state: AgentState):\n",
    "    chat_model = ChatOpenAI(model=\"gpt-4.1-mini\")\n",
    "    search_formulator_chain = search_formulator_prompt | chat_model | StrOutputParser()\n",
    "    search_query = search_formulator_chain.invoke(state[\"messages\"])\n",
    "    state[\"search_query\"] = search_query\n",
    "    return state"
   ]
  },
  {
   "cell_type": "code",
   "execution_count": 15,
   "metadata": {},
   "outputs": [],
   "source": [
    "def search_engine(state: AgentState):\n",
    "    search_query = state.get(\"search_query\", \"\")\n",
    "    if search_query:\n",
    "        search_tool = TavilySearchResults(max_results=3)\n",
    "        search_results = search_tool.invoke(search_query)\n",
    "        state[\"search_results\"] = search_results\n",
    "    return state"
   ]
  },
  {
   "cell_type": "code",
   "execution_count": 16,
   "metadata": {},
   "outputs": [],
   "source": [
    "def context_retriever(state: AgentState):\n",
    "    search_query = state.get(\"search_query\", \"\")\n",
    "    if search_query:\n",
    "        results = rag_chain.invoke({\"question\": search_query})\n",
    "        state[\"context\"] = results\n",
    "    return state"
   ]
  },
  {
   "cell_type": "code",
   "execution_count": 17,
   "metadata": {},
   "outputs": [],
   "source": [
    "def assistant(state: AgentState):\n",
    "    chat_model = ChatOpenAI(model=\"gpt-4.1-mini\")\n",
    "    assistant_chain = chat_model\n",
    "    latest_message = state[\"messages\"][-1]\n",
    "    latest_message = USER_PROMPT.format(question=latest_message.content, context=str(state[\"context\"]) + str(state[\"search_results\"]))\n",
    "    state[\"messages\"][-1] = latest_message\n",
    "    # Pass a dictionary with the messages\n",
    "    response = assistant_chain.invoke(state[\"messages\"])\n",
    "    return {\"messages\": [response]}\n",
    "    "
   ]
  },
  {
   "cell_type": "code",
   "execution_count": 18,
   "metadata": {},
   "outputs": [],
   "source": [
    "graph = StateGraph(AgentState)\n",
    "\n",
    "graph.add_node(\"search_formulator\", search_formulator)\n",
    "graph.add_node(\"search_engine\", search_engine)\n",
    "graph.add_node(\"context_retriever\", context_retriever)\n",
    "graph.add_node(\"assistant\", assistant)\n",
    "\n",
    "graph.add_conditional_edges(START, router, {\n",
    "    \"CONTEXT\": \"search_formulator\",\n",
    "    \"ASSISTANT\": \"assistant\"\n",
    "})\n",
    "\n",
    "graph.add_edge(\"search_formulator\", \"search_engine\")\n",
    "graph.add_edge(\"search_engine\", \"context_retriever\")\n",
    "graph.add_edge(\"context_retriever\", \"assistant\")\n",
    "graph.add_edge(\"assistant\", END)\n",
    "\n",
    "graph = graph.compile()"
   ]
  },
  {
   "cell_type": "code",
   "execution_count": 19,
   "metadata": {},
   "outputs": [
    {
     "data": {
      "image/png": "[encoded data removed]",
      "text/plain": [
       "<IPython.core.display.Image object>"
      ]
     },
     "metadata": {},
     "output_type": "display_data"
    }
   ],
   "source": [
    "from IPython.display import Image, display\n",
    "from langchain_core.runnables.graph import CurveStyle, MermaidDrawMethod, NodeStyles\n",
    "\n",
    "display(\n",
    "    Image(\n",
    "        graph.get_graph().draw_mermaid_png(\n",
    "            curve_style=CurveStyle.LINEAR,\n",
    "            node_colors=NodeStyles(first=\"#ffdfba\", last=\"#baffc9\", default=\"#fad7de\"),\n",
    "            wrap_label_n_words=9,\n",
    "            output_file_path=None,\n",
    "            draw_method=MermaidDrawMethod.PYPPETEER,\n",
    "            background_color=\"white\",\n",
    "            padding=10,\n",
    "        )\n",
    "    )\n",
    ")"
   ]
  },
  {
   "cell_type": "code",
   "execution_count": 20,
   "metadata": {},
   "outputs": [],
   "source": [
    "messages = [\n",
    "    AIMessage(content=ASSISTANT_PROMPT)\n",
    "]\n",
    "state_ = None"
   ]
  },
  {
   "cell_type": "code",
   "execution_count": 21,
   "metadata": {},
   "outputs": [],
   "source": [
    "async def invoke_graph(query:str, graph: StateGraph):\n",
    "    messages.append(HumanMessage(content=query))\n",
    "    global state_\n",
    "    state = AgentState(messages=messages, context=[], search_results=[])\n",
    "    state_ = state\n",
    "    async for chunk in graph.astream(state, stream_mode=\"updates\"):\n",
    "        for node, values in chunk.items():\n",
    "            if node == \"assistant\":\n",
    "                messages.append(values[\"messages\"][-1])\n",
    "            elif node == \"search_formulator\":\n",
    "                state_[\"search_query\"] = values[\"search_query\"]\n",
    "            elif node == \"search_engine\":\n",
    "                state_[\"search_results\"] = values[\"search_results\"]\n",
    "            elif node == \"context_retriever\":\n",
    "                state_[\"context\"] = values[\"context\"]\n",
    "            outp = f\"Receiving update from node: '{node}'\"\n",
    "            state_ = state\n",
    "            yield outp"
   ]
  },
  {
   "cell_type": "code",
   "execution_count": 22,
   "metadata": {},
   "outputs": [
    {
     "name": "stdout",
     "output_type": "stream",
     "text": [
      "Receiving update from node: 'search_formulator'\n",
      "Receiving update from node: 'search_engine'\n"
     ]
    },
    {
     "name": "stderr",
     "output_type": "stream",
     "text": [
      "/Users/deman/Dev/Maven/MavenAIBootcamp6/AIE6-Certification-Challenge/.venv/lib/python3.13/site-packages/huggingface_hub/utils/_deprecation.py:131: FutureWarning: 'post' (from 'huggingface_hub.inference._client') is deprecated and will be removed from version '0.31.0'. Making direct POST requests to the inference server is not supported anymore. Please use task methods instead (e.g. `InferenceClient.chat_completion`). If your use case is not supported, please open an issue in https://github.com/huggingface/huggingface_hub.\n",
      "  warnings.warn(warning_message, FutureWarning)\n"
     ]
    },
    {
     "name": "stdout",
     "output_type": "stream",
     "text": [
      "Receiving update from node: 'context_retriever'\n",
      "Receiving update from node: 'assistant'\n"
     ]
    }
   ],
   "source": [
    "async for outp in invoke_graph(\"What is the best pizza in New York?\", graph):\n",
    "    print(outp)"
   ]
  },
  {
   "cell_type": "code",
   "execution_count": 23,
   "metadata": {},
   "outputs": [
    {
     "data": {
      "text/plain": [
       "{'messages': [AIMessage(content='\\nYou are a foodie assistant. You can answer user\\'s questions about food and restaurants.\\nThe user may occasionally ask you questions followed by a context which you can rely on to\\nanswer the questions. If the user has provided context, then use it to answer the question.\\n\\nIf the question is not related to food or restaurants, you can explain your purpose to the user.\\nIf the user insists on an unrelated question, you must say \"I\\'m just a foodie-assistant, I can\\'t answer that.\"\\n', additional_kwargs={}, response_metadata={}, id='6c5a5153-3757-4dac-93d2-95f71f7aa300'),\n",
       "  HumanMessage(content='What is the best pizza in New York?', additional_kwargs={}, response_metadata={}, id='6d1f65d5-3a02-4b43-b218-87a4c2d42305'),\n",
       "  AIMessage(content=\"Based on 2024 reviews and available data, here are some of the best pizza options in New York:\\n\\n1. **Luigi’s in Brooklyn** – Rated 9.3/10 by a first-time NYC pizza taster, considered the best pizza they tried with amazing quality and a great owner.\\n\\n2. **Lucia Pizza of SoHo** – Rated 9.0/10, known for being super crispy and light, a top-tier pizza experience.\\n\\n3. **Scarrs** – Rated 8.7/10, offers balanced and well-crisped pizza, though not currently at its peak.\\n\\n4. **L’industrie** – 8.4/10, noted for having the best sauce and decent overall pizza, despite some inconsistency.\\n\\n5. **Mamas too** – 8.3/10, good but somewhat greasy, decent overall.\\n\\n6. **New York Pizza** – Recommended for authentic New York-style pizza with good balance of sauce and cheese, and a crispy yet foldable crust. While generally well-liked, some reviewers feel it doesn't stand out as exceptional compared to other top local options.\\n\\n7. **Joe’s Pizza (Original location at 7 Carmine Street)** – Favored for classic NYC slices. Also has a Times Square outpost.\\n\\n8. **John’s Pizza on Bleeker Street** – A longtime Village institution since 1929, recommended for whole pies rather than slices.\\n\\n9. **Don Antonio** – Located near West 50th St. & 8th Ave., serves Neapolitan-style pizza with a puffy crust, considered by some as the best pizza in Midtown.\\n\\nWhile New York Pizza is a solid place to try authentic New York-style pizza, if you want the very best rated by locals and visitors, Luigi’s Brooklyn or Lucia Pizza in SoHo are highly recommended. Joe’s Pizza and John’s on Bleeker remain classic choices for quintessential NYC slices and pies.\\n\\nIf you want, I can help you with addresses or more details about any of these places!\", additional_kwargs={'refusal': None}, response_metadata={'token_usage': {'completion_tokens': 416, 'prompt_tokens': 1434, 'total_tokens': 1850, 'completion_tokens_details': {'accepted_prediction_tokens': 0, 'audio_tokens': 0, 'reasoning_tokens': 0, 'rejected_prediction_tokens': 0}, 'prompt_tokens_details': {'audio_tokens': 0, 'cached_tokens': 0}}, 'model_name': 'gpt-4.1-mini-2025-04-14', 'system_fingerprint': 'fp_38647f5e19', 'finish_reason': 'stop', 'logprobs': None}, id='run--4e427716-e57a-40ca-b54c-ff3fd59057b5-0', usage_metadata={'input_tokens': 1434, 'output_tokens': 416, 'total_tokens': 1850, 'input_token_details': {'audio': 0, 'cache_read': 0}, 'output_token_details': {'audio': 0, 'reasoning': 0}})],\n",
       " 'context': \"Based on the available reviews from 2024, New York Pizza is recognized for offering good New York-style pizza with characteristics and flavors resembling authentic NYC pizza. Customers appreciate the balance of sauce and cheese, the crispy yet foldable crust, and large slices similar to what you'd find in New York City. The restaurant also offers a nice indoor seating area and serves wine, making it a legit pizza place worth checking out.\\n\\nHowever, some reviewers mention that while the New York-style pizza is good, it may not stand out as exceptional compared to other local options. Additionally, the Chicago-style pizza at this place is noted by one reviewer as being better than their New York-style pizza.\\n\\nFrom this data, New York Pizza is a recommended option to try for New York-style pizza in 2024, but there may be other pizza places in the area that some customers prefer.\\n\\nIf you need a broader list of best pizza restaurants specifically in New York for 2024, the provided context does not contain that information.\",\n",
       " 'search_results': [{'title': 'Pizza Ratings from a first timer in NYC (2024) : r/FoodNYC - Reddit',\n",
       "   'url': 'https://www.reddit.com/r/FoodNYC/comments/1d6r8yf/pizza_ratings_from_a_first_timer_in_nyc_2024/',\n",
       "   'content': 'Luigi’s in Brooklyn: 9.3 - best pizza I tried in NY imo. All around amazing. Great owner too.\\n\\n\\nLucia Pizza of SoHo: 9.0 - very good. Didn’t get the freshest slice but can tell it’s top tier stuff. Super crispy and light how I like it. Good rec from Redditor below\\n\\n\\nScarrs: 8.7 - most balanced, good crisp. Heard it’s not at its peak anymore. But still enjoyed the overall balance. [...] Lucalis: 8.6 - tastes good, quality ingredients. Suffers from being overhyped perhaps. Was hoping to give it a 9+ but couldn’t. Tad too cheesy too.\\n\\n\\nL’industrie: 8.4 best sauce, decent overall. Had twice. Inconsistent, and back half of slice gets overly thick vs first half of the slice.\\n\\n\\nMamas too: 8.3. Good, no major complaints, other than overly greasy. Wouldn’t go out of my way for it probably.\\n\\n\\nNY Pizza Suprema: 8.1 - good crisp, sauce bit overly sweet. [...] Juliana’s: 7.9 - good taste, nothing to write home about. First pie I had in NYC\\n\\n\\nJohn’s of bleeker. 6.9 - wasn’t impressed. Average all around. I don’t get the hype at all. But very nice folks.\\n\\n\\nLate night grabs\\n9. Joes pizza Greenwich: 6.5. Was cold so probably got a bad batch. Not a fan even if it was warmer.\\n10. Traditas pizza - 6.8 Good for late night bite, wouldn’t get during normal hours\\nRead more\\n\\n82 comments',\n",
       "   'score': 0.91901255},\n",
       "  {'title': 'Best Pizza - New York City Forum - Tripadvisor',\n",
       "   'url': 'https://www.tripadvisor.com/ShowTopic-g60763-i5-k14767094-Best_Pizza-New_York_City_New_York.html',\n",
       "   'content': \"May 19, 2024, 1:36 PM\\nSave\\nDon Antonio is near your hotel (west 50 st. & 8th ave.) and serves Neapolitan style pizza (puffy crust) and is considered by some to be the best pizza in midtown. It's a sitdown restaurant serving pies.\\nhttps://don-antonio-new-york.myshopify.com/\\nJoe's Pizza started in Greenwich Village but has an outpost in Times. Square\\nhttps://www.joespizzanyc.com/locations\\nReply\\nReport inappropriate content\\n\\nCasaHoffa\\nHuatulco, Mexico\\n 12,608 posts\\n 119 helpful votes [...] Re: Best Pizza\\n\\nMay 19, 2024, 1:36 PM\\nSave\\nOur favorite slice is at (the original) Joe’s Pizza at 7 Carmine Street, near 6th Avenue (AKA Avenue of the Americas).\\nBut for a whole pie, John's on Bleeker Street is the way to go. The place has been there since 1929 and is a Village institution!\\nCH\\nReply\\nReport inappropriate content\\n\\nnagito d\\n 5 posts\\n\\nRe: Best Pizza\\n\\nSep 23, 2024, 9:56 PM\\nSave\\nAngelo's Pizza might be a good pizza place\\nReply\\nReport inappropriate content [...] Destin000\\nDestin, Florida\\n 28 posts\\n 57 helpful votes\\nBest Pizza\\nMay 18, 2024, 10:37 PM\\nSave\\nWe’ve enjoyed John’s Pizza near Times Square but was wondering where else we might get the best pizza. We’ll be staying up near 55th, south of Central Park.\\nReply\\nReport inappropriate content\\n13 replies to this topic\\n1-10 of 13 replies\\nSorted by\\n« 1 2 »\\n\\nlisarose\\nWashington DC...\\n 381 posts\\n 74 helpful votes\\n\\nRe: Best Pizza\",\n",
       "   'score': 0.90593183},\n",
       "  {'title': '44 Best Pizzerias In New York - OpenTable',\n",
       "   'url': 'https://www.opentable.com/cuisine/best-pizzeria-restaurants-new-york-ny',\n",
       "   'content': \"M\\nMary AnnVIP\\nNew York City •7 reviews\\n5.0\\nDined on Nov 23, 2024\\nFood was good as usual but our waiter Christian was Exceptional! ⭐️⭐️⭐️⭐️⭐️⭐️⭐️⭐️⭐️⭐️for Christian!!!\\nMore info\\nBJ's Restaurant & Brewhouse - Teterboro$$$$Price: Moderate• American• Hackensack • 4.2\\n\\n\\nExplore OpenTable\\n\\nNeighborhood\\nCuisine Nearby\\n\\nPizzeria Cuisine\\n\\n\\nNew York\\n\\n\\nPizzeria\\n\\n\\nWoodland Park\",\n",
       "   'score': 0.8846886}],\n",
       " 'search_query': 'best pizza restaurants in New York reviews 2024'}"
      ]
     },
     "execution_count": 23,
     "metadata": {},
     "output_type": "execute_result"
    }
   ],
   "source": [
    "state_"
   ]
  },
  {
   "cell_type": "code",
   "execution_count": 24,
   "metadata": {},
   "outputs": [
    {
     "name": "stdout",
     "output_type": "stream",
     "text": [
      "Based on 2024 reviews and available data, here are some of the best pizza options in New York:\n",
      "\n",
      "1. **Luigi’s in Brooklyn** – Rated 9.3/10 by a first-time NYC pizza taster, considered the best pizza they tried with amazing quality and a great owner.\n",
      "\n",
      "2. **Lucia Pizza of SoHo** – Rated 9.0/10, known for being super crispy and light, a top-tier pizza experience.\n",
      "\n",
      "3. **Scarrs** – Rated 8.7/10, offers balanced and well-crisped pizza, though not currently at its peak.\n",
      "\n",
      "4. **L’industrie** – 8.4/10, noted for having the best sauce and decent overall pizza, despite some inconsistency.\n",
      "\n",
      "5. **Mamas too** – 8.3/10, good but somewhat greasy, decent overall.\n",
      "\n",
      "6. **New York Pizza** – Recommended for authentic New York-style pizza with good balance of sauce and cheese, and a crispy yet foldable crust. While generally well-liked, some reviewers feel it doesn't stand out as exceptional compared to other top local options.\n",
      "\n",
      "7. **Joe’s Pizza (Original location at 7 Carmine Street)** – Favored for classic NYC slices. Also has a Times Square outpost.\n",
      "\n",
      "8. **John’s Pizza on Bleeker Street** – A longtime Village institution since 1929, recommended for whole pies rather than slices.\n",
      "\n",
      "9. **Don Antonio** – Located near West 50th St. & 8th Ave., serves Neapolitan-style pizza with a puffy crust, considered by some as the best pizza in Midtown.\n",
      "\n",
      "While New York Pizza is a solid place to try authentic New York-style pizza, if you want the very best rated by locals and visitors, Luigi’s Brooklyn or Lucia Pizza in SoHo are highly recommended. Joe’s Pizza and John’s on Bleeker remain classic choices for quintessential NYC slices and pies.\n",
      "\n",
      "If you want, I can help you with addresses or more details about any of these places!\n"
     ]
    }
   ],
   "source": [
    "print(messages[-1].content)"
   ]
  },
  {
   "cell_type": "code",
   "execution_count": 25,
   "metadata": {},
   "outputs": [
    {
     "name": "stdout",
     "output_type": "stream",
     "text": [
      "Receiving update from node: 'search_formulator'\n",
      "Receiving update from node: 'search_engine'\n"
     ]
    },
    {
     "name": "stderr",
     "output_type": "stream",
     "text": [
      "/Users/deman/Dev/Maven/MavenAIBootcamp6/AIE6-Certification-Challenge/.venv/lib/python3.13/site-packages/huggingface_hub/utils/_deprecation.py:131: FutureWarning: 'post' (from 'huggingface_hub.inference._client') is deprecated and will be removed from version '0.31.0'. Making direct POST requests to the inference server is not supported anymore. Please use task methods instead (e.g. `InferenceClient.chat_completion`). If your use case is not supported, please open an issue in https://github.com/huggingface/huggingface_hub.\n",
      "  warnings.warn(warning_message, FutureWarning)\n"
     ]
    },
    {
     "name": "stdout",
     "output_type": "stream",
     "text": [
      "Receiving update from node: 'context_retriever'\n",
      "Receiving update from node: 'assistant'\n"
     ]
    }
   ],
   "source": [
    "async for outp in invoke_graph(\"What are some reviews for Di Fara's Pizza?\", graph):\n",
    "    print(outp)"
   ]
  },
  {
   "cell_type": "code",
   "execution_count": 26,
   "metadata": {},
   "outputs": [
    {
     "name": "stdout",
     "output_type": "stream",
     "text": [
      "Here are some recent reviews for Di Fara's Pizza in Brooklyn, New York:\n",
      "\n",
      "- One reviewer said Di Fara's pizza is \"amazing\" and called it the best square pizza they’ve found in NYC. They highlighted the chunky and very flavorful sauce. Although a bit messy to eat, they felt it was definitely worth it.\n",
      "\n",
      "- Another review mentioned it's \"Honestly the best pepperoni pizza in New York City\" with great herbs, spices, and sauce—better than a full Domino's order, even though it's about the same price for one pie.\n",
      "\n",
      "- A visitor recommended Di Fara’s on the basis of local family advice and said that even though NY style pizza isn't normally their favorite, this pizza was great with a thick, crunchy, cracker-like crust.\n",
      "\n",
      "Overall, Di Fara's is highly praised for its flavorful sauce, quality ingredients, and delicious crust, making it a top spot for authentic New York pizza lovers. Would you like tips on visiting or what's best to order there?\n"
     ]
    }
   ],
   "source": [
    "print(messages[-1].content)"
   ]
  },
  {
   "cell_type": "code",
   "execution_count": null,
   "metadata": {},
   "outputs": [
    {
     "name": "stdout",
     "output_type": "stream",
     "text": [
      "Receiving update from node: 'search_formulator'\n",
      "Receiving update from node: 'search_engine'\n"
     ]
    },
    {
     "name": "stderr",
     "output_type": "stream",
     "text": [
      "/Users/deman/Dev/Maven/MavenAIBootcamp6/AIE6-Certification-Challenge/.venv/lib/python3.13/site-packages/huggingface_hub/utils/_deprecation.py:131: FutureWarning: 'post' (from 'huggingface_hub.inference._client') is deprecated and will be removed from version '0.31.0'. Making direct POST requests to the inference server is not supported anymore. Please use task methods instead (e.g. `InferenceClient.chat_completion`). If your use case is not supported, please open an issue in https://github.com/huggingface/huggingface_hub.\n",
      "  warnings.warn(warning_message, FutureWarning)\n"
     ]
    },
    {
     "name": "stdout",
     "output_type": "stream",
     "text": [
      "Receiving update from node: 'context_retriever'\n",
      "Receiving update from node: 'assistant'\n"
     ]
    }
   ],
   "source": [
    "async for outp in invoke_graph(\"What's the best coffee shop in Queens? What are some reviews for it?\", graph):\n",
    "    print(outp)"
   ]
  },
  {
   "cell_type": "code",
   "execution_count": 28,
   "metadata": {},
   "outputs": [
    {
     "name": "stdout",
     "output_type": "stream",
     "text": [
      "Based on available information, some of the best coffee shops in Queens include:\n",
      "\n",
      "1. **New York City Bagel & Coffee House** – Highly rated for both coffee and bagels, with a 4.8/5 score on Tripadvisor from 37 reviews.\n",
      "\n",
      "2. **Devoción** – Known for a lush, green ambiance and fresh Colombian coffee, making it a favorite spot for coffee lovers.\n",
      "\n",
      "3. **No Stress Coffee** – Located at 42-77 Hunter St, Queens, praised for its calming atmosphere.\n",
      "\n",
      "4. **Cafe 1 of a Kind** – Holds a 4.3/5 rating on Tripadvisor.\n",
      "\n",
      "5. **Sweetleaf** – Also popular with a 4.2/5 rating.\n",
      "\n",
      "Wanderlog also lists other notable Queens coffee spots such as Kinship Coffee, La Colombe, Cafe Grumpy, and Five Leaves.\n",
      "\n",
      "If you want, I can help you with directions, menu highlights, or more detailed reviews for any of these coffee shops!\n"
     ]
    }
   ],
   "source": [
    "print(messages[-1].content)"
   ]
  },
  {
   "cell_type": "code",
   "execution_count": 29,
   "metadata": {},
   "outputs": [],
   "source": [
    "# Modify invocation to support tracking of the graph\n",
    "async def invoke_graph_for_tracing(query:str, graph: StateGraph):\n",
    "    messages.append(HumanMessage(content=query))\n",
    "    global state_\n",
    "    state = AgentState(messages=messages, context=[], search_results=[])\n",
    "    state_ = state\n",
    "    async for chunk in graph.astream(state, stream_mode=\"updates\"):\n",
    "        for node, values in chunk.items():\n",
    "            if node == \"assistant\":\n",
    "                messages.append(values[\"messages\"][-1])\n",
    "            elif node == \"search_formulator\":\n",
    "                state_[\"search_query\"] = values[\"search_query\"]\n",
    "            elif node == \"search_engine\":\n",
    "                state_[\"search_results\"] = values[\"search_results\"]\n",
    "            elif node == \"context_retriever\":\n",
    "                state_[\"context\"] = values[\"context\"]\n",
    "            outp = f\"Receiving update from node: '{node}'\"\n",
    "            state_ = state\n",
    "            yield outp"
   ]
  },
  {
   "cell_type": "code",
   "execution_count": 30,
   "metadata": {},
   "outputs": [],
   "source": [
    "messages = [\n",
    "    AIMessage(content=ASSISTANT_PROMPT)\n",
    "]\n",
    "state_ = None"
   ]
  },
  {
   "cell_type": "markdown",
   "metadata": {},
   "source": [
    "## RAGAS Evaluation"
   ]
  },
  {
   "cell_type": "code",
   "execution_count": 31,
   "metadata": {},
   "outputs": [
    {
     "name": "stderr",
     "output_type": "stream",
     "text": [
      "/Users/deman/Dev/Maven/MavenAIBootcamp6/AIE6-Certification-Challenge/.venv/lib/python3.13/site-packages/huggingface_hub/utils/_deprecation.py:131: FutureWarning: 'post' (from 'huggingface_hub.inference._client') is deprecated and will be removed from version '0.31.0'. Making direct POST requests to the inference server is not supported anymore. Please use task methods instead (e.g. `InferenceClient.chat_completion`). If your use case is not supported, please open an issue in https://github.com/huggingface/huggingface_hub.\n",
      "  warnings.warn(warning_message, FutureWarning)\n"
     ]
    }
   ],
   "source": [
    "state = AgentState(messages=messages, context=[], search_results=[])\n",
    "state[\"messages\"].append(HumanMessage(content=\"What us the best coffee shop in Queens and what are some reviews of it?\"))\n",
    "result = graph.invoke(state)"
   ]
  },
  {
   "cell_type": "code",
   "execution_count": 32,
   "metadata": {},
   "outputs": [
    {
     "data": {
      "text/plain": [
       "[AIMessage(content='\\nYou are a foodie assistant. You can answer user\\'s questions about food and restaurants.\\nThe user may occasionally ask you questions followed by a context which you can rely on to\\nanswer the questions. If the user has provided context, then use it to answer the question.\\n\\nIf the question is not related to food or restaurants, you can explain your purpose to the user.\\nIf the user insists on an unrelated question, you must say \"I\\'m just a foodie-assistant, I can\\'t answer that.\"\\n', metadata=None, type='ai', tool_calls=None),\n",
       " HumanMessage(content='\\nWhat us the best coffee shop in Queens and what are some reviews of it?\\n\\nBased on the available reviews, there is no specific information about the best coffee shop in Queens. The reviews mention great coffee shops and positive experiences, but none are specifically identified as being in Queens. Therefore, I don\\'t have information about the best coffee shop in Queens from the provided context.[{\\'title\\': \\'BEST of Queens, NY Coffee - Yelp\\', \\'url\\': \\'https://www.yelp.com/search?find_desc=Coffee&find_loc=Queens%2C+NY\\', \\'content\\': \\'Top 10 Best Coffee Near Queens, New York ; 1. Elm Roastery · (122 reviews). 1.5 mi ; 2. Coffee Shot · (27 reviews). 1.0 mi ; 3. Mokafe · (96 reviews). 3.9 mi ; 4.\\', \\'score\\': 0.8891543}, {\\'title\\': \\'The 50 best coffee shops and best cafes in Queens - Wanderlog\\', \\'url\\': \\'https://wanderlog.com/list/geoCategory/292859/best-coffee-shops-and-best-cafes-in-queens\\', \\'content\\': \\'4.5\\\\n(370)\\\\n•\\\\n4.5\\\\n(97)\\\\n•\\\\nMentioned on\\\\xa0\\\\n+1 other list\\\\xa0\\\\nCoffee shop\\\\nNinth Street Espresso is a beloved coffee shop with locations in Manhattan and Brooklyn, known for its dedication to serving top-notch espresso drinks. Since its establishment in Alphabet City in 2001, it has been a pioneer in offering manual espresso coffee as its main focus. This petite café caters to purists by offering a simple menu of drip, iced, and espresso drinks. [...] Russell L — Google review\\\\nThe staff is all friendly, and the café has a spacious area, making it a great place to relax. Of course, the coffee is delicious. It’s always a pleasure to visit!\\\\n이소영 — Google review\\\\nReally nice coffee shop. Delicious espresso blend. Friendly staff willing to talk coffee!\\\\nDavid S — Google review\\\\n750 Columbus Ave, New York, NY 10025, USA•https://shop.birchcoffee.com/pages/visit•(212) 686-1444•Tips and more reviews for Birch Coffee\\\\n27WatchHouse 5th Ave.\\\\nSave [...] 4.6\\\\n(1837)\\\\n•\\\\n4.5\\\\n(261)\\\\n•\\\\nMentioned on\\\\xa0\\\\n3 lists\\\\xa0\\\\n$$$$affordable\\\\nCoffee shop\\\\nBakery\\\\nCookie shop\\\\nCulture Espresso is a small, art-filled coffee shop with three locations in Midtown NYC. Known for its rich, flavorful coffee and delectable pastries, it offers an array of cookie flavors including Zebra, oatmeal cranberry, and corn. The shop has a bohemian atmosphere and is praised for its macchiatos, cold brews, cappuccinos, espressos, and lattes.\\', \\'score\\': 0.87807417}, {\\'title\\': \\'Best Coffee Shops in Queens: Our Expert Picks for 2025\\', \\'url\\': \\'https://nosleep.city/best-coffee-shops-in-queens\\', \\'content\\': \"In conclusion, GREY Cafe is a must-visit for coffee lovers in Queens. With its cozy ambiance, expertly brewed coffee, friendly staff, variety of seating options, and tasty snacks, it ticks all the boxes for a top-notch coffee shop experience. So the next time you find yourself in Queens, don\\'t miss out on the opportunity to indulge in a cup of joe at GREY Cafe.\\\\nYou might also want to check out the best coffee shops to work in NYC.\\\\nAstoria Coffee [...] The staff was friendly and attentive, always ready to answer questions and provide recommendations. They were knowledgeable about their beans and brewing techniques, sharing tidbits of information that only deepened my appreciation for the art of coffee-making.\\\\nOverall, my experience at \\\\xa0OK Café was a delightful blend of great coffee, inviting ambiance, and friendly service. It’s certainly a place worth visiting for any coffee lover seeking a memorable cup of joe in Queens. [...] Overall, Under Pressure Coffee exceeded my expectations. The affordable surprise bag, excellent coffee, and delectable pastries made for a truly memorable experience. Whether you\\'re a \\\\xa0coffee connoisseur or simply looking for a cozy place to relax, Under Pressure Coffee in Queens is a must-visit.\\\\nYou might also want to check out the best coffee shops to work in Brooklyn.\\\\nWHITE NOISE COFFEE CO\", \\'score\\': 0.87807417}]\\n', metadata=None, type='human'),\n",
       " AIMessage(content=\"Based on expert picks and reviews, some of the best coffee shops in Queens are:\\n\\n1. **GREY Cafe**  \\n   - Cozy ambiance with a variety of seating options  \\n   - Expertly brewed coffee and tasty snacks  \\n   - Friendly, knowledgeable staff who share insights about beans and brewing  \\n   - Highly recommended for a top-notch coffee experience in Queens  \\n\\n2. **OK Café**  \\n   - Inviting ambiance and great coffee  \\n   - Attentive and friendly staff  \\n   - A delightful place for any coffee lover seeking a memorable cup in Queens  \\n\\n3. **Under Pressure Coffee**  \\n   - Known for excellent coffee and delectable pastries  \\n   - Offers an affordable surprise bag for coffee lovers  \\n   - Cozy environment and highly praised overall  \\n\\nThese spots receive consistently positive reviews appreciating their coffee quality, atmosphere, and service. If you're in Queens, GREY Cafe in particular is often highlighted as a must-visit coffee shop.  \\n\\nFor more local options, you can also check out Elm Roastery, Coffee Shot, and Mokafe, which have good reviews near Queens.  \\n\\nWould you like me to find directions, menu highlights, or reservation info for any of these?\", metadata=None, type='ai', tool_calls=[])]"
      ]
     },
     "execution_count": 32,
     "metadata": {},
     "output_type": "execute_result"
    }
   ],
   "source": [
    "from ragas.integrations.langgraph import convert_to_ragas_messages\n",
    "\n",
    "ragas_trace = convert_to_ragas_messages(\n",
    "    result[\"messages\"]\n",
    ")  # List of Ragas messages converted using the Ragas function\n",
    "ragas_trace"
   ]
  },
  {
   "cell_type": "markdown",
   "metadata": {},
   "source": [
    "### Agent Goal Accuracy"
   ]
  },
  {
   "cell_type": "code",
   "execution_count": 33,
   "metadata": {},
   "outputs": [
    {
     "data": {
      "text/plain": [
       "1.0"
      ]
     },
     "execution_count": 33,
     "metadata": {},
     "output_type": "execute_result"
    }
   ],
   "source": [
    "from ragas.dataset_schema import MultiTurnSample\n",
    "from ragas.metrics import AgentGoalAccuracyWithReference\n",
    "from ragas.llms import LangchainLLMWrapper\n",
    "\n",
    "\n",
    "sample = MultiTurnSample(\n",
    "    user_input=ragas_trace,\n",
    "    reference=\"What us the best coffee shop in Queens and what are some reviews of it?\",\n",
    ")\n",
    "\n",
    "scorer = AgentGoalAccuracyWithReference()\n",
    "\n",
    "evaluator_llm = LangchainLLMWrapper(ChatOpenAI(model=\"gpt-4.1\"))\n",
    "scorer.llm = evaluator_llm\n",
    "await scorer.multi_turn_ascore(sample)"
   ]
  },
  {
   "cell_type": "markdown",
   "metadata": {},
   "source": [
    "### Topic Adherence"
   ]
  },
  {
   "cell_type": "code",
   "execution_count": 34,
   "metadata": {},
   "outputs": [
    {
     "data": {
      "text/plain": [
       "np.float64(0.99999999995)"
      ]
     },
     "execution_count": 34,
     "metadata": {},
     "output_type": "execute_result"
    }
   ],
   "source": [
    "from ragas.metrics import TopicAdherenceScore\n",
    "\n",
    "sample = MultiTurnSample(\n",
    "    user_input=ragas_trace,\n",
    "    reference_topics = [\"food and restaurants\"]\n",
    ")\n",
    "\n",
    "evaluator_llm = LangchainLLMWrapper(ChatOpenAI(model=\"gpt-4.1\"))\n",
    "scorer = TopicAdherenceScore(llm = evaluator_llm, mode=\"precision\")\n",
    "await scorer.multi_turn_ascore(sample)"
   ]
  },
  {
   "cell_type": "code",
   "execution_count": null,
   "metadata": {},
   "outputs": [],
   "source": []
  }
 ],
 "metadata": {
  "kernelspec": {
   "display_name": ".venv",
   "language": "python",
   "name": "python3"
  },
  "language_info": {
   "codemirror_mode": {
    "name": "ipython",
    "version": 3
   },
   "file_extension": ".py",
   "mimetype": "text/x-python",
   "name": "python",
   "nbconvert_exporter": "python",
   "pygments_lexer": "ipython3",
   "version": "3.13.2"
  }
 },
 "nbformat": 4,
 "nbformat_minor": 2
}
