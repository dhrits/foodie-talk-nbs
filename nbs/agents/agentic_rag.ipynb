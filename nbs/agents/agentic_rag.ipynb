{
 "cells": [
  {
   "cell_type": "markdown",
   "metadata": {},
   "source": [
    "### Foodie-Talk Agentic RAG\n",
    "This notebook builds out the LangGraph graph to help answer the user's food specofic questions. "
   ]
  },
  {
   "cell_type": "code",
   "execution_count": 40,
   "metadata": {},
   "outputs": [],
   "source": [
    "import os\n",
    "import tiktoken\n",
    "from typing import Any, Callable, List, Optional, TypedDict, Union\n",
    "\n",
    "from langchain.text_splitter import RecursiveCharacterTextSplitter\n",
    "from langchain.document_loaders import PyMuPDFLoader\n",
    "from langchain_community.vectorstores import Qdrant\n",
    "from qdrant_client import QdrantClient\n",
    "from langchain_qdrant import QdrantVectorStore\n",
    "from qdrant_client.http.models import Distance, VectorParams\n",
    "from langchain_core.prompts import ChatPromptTemplate\n",
    "from langchain_openai import ChatOpenAI\n",
    "from operator import itemgetter\n",
    "from langchain.schema.output_parser import StrOutputParser\n",
    "from langchain_community.tools import TavilySearchResults\n",
    "\n",
    "\n",
    "from langchain.agents import AgentExecutor, create_openai_functions_agent\n",
    "from langchain.output_parsers.openai_functions import JsonOutputFunctionsParser\n",
    "from langchain_core.prompts import ChatPromptTemplate, MessagesPlaceholder\n",
    "from langchain_core.messages import AIMessage, BaseMessage, HumanMessage\n",
    "from langchain_core.runnables import Runnable\n",
    "from langchain_core.tools import BaseTool\n",
    "from langchain_openai import ChatOpenAI\n",
    "\n",
    "from langgraph.graph import START, END, StateGraph"
   ]
  },
  {
   "cell_type": "code",
   "execution_count": 23,
   "metadata": {},
   "outputs": [
    {
     "data": {
      "text/plain": [
       "[{'title': 'BEST of Manhattan, NY Pizza - Yelp',\n",
       "  'url': 'https://www.yelp.com/search?find_desc=Pizza&find_loc=Manhattan%2C+NY',\n",
       "  'content': \"Top 10 Best Pizza Near Manhattan, New York · 1. Joe's Pizza · 2. NY Pizza Suprema · 3. See No Evil Pizza · 4. Prince Street Pizza · 5. B Side Pizza & Wine Bar.\",\n",
       "  'score': 0.8051581},\n",
       " {'title': 'Manhattan Pizza - Home of Legendary, Manhattan-Style Pizza',\n",
       "  'url': 'https://manhattanpizza.com/',\n",
       "  'content': 'You will find a bit of Italy and Greece when you stop by Manhattan Pizza. This is the place to go for pizza, calzones, gyros, pasta, salads,',\n",
       "  'score': 0.79675186},\n",
       " {'title': 'Don Antonio | Authentic Neapolitan Pizza in New York',\n",
       "  'url': 'https://www.donantoniopizza.com/',\n",
       "  'content': \"Located in the heart of Hell's Kitchen and the Theatre District, Don Antonio brings the authentic flavors of Neapolitan pizza to Midtown Manhattan.\",\n",
       "  'score': 0.76596165},\n",
       " {'title': 'Best Pizza in New York City - Eater NY',\n",
       "  'url': 'https://ny.eater.com/maps/best-pizza-new-york-city-nyc-pizzerias',\n",
       "  'content': \"Open in Google Maps\\n\\n2750 Broadway, Manhattan, NY 10025\\n(212) 510-7256\\n(212) 510-7256\\nVisit Website [...] 2750 Broadway, Manhattan, NY 10025\\n(212) 510-7256\\n(212) 510-7256\\nVisit Website [...] The white pizza from Louie & Ernie’s Pizza.\\nRobert Sietsema/Eater NY\\nMama's Too\\n2750 Broadway, Manhattan, NY 10025\",\n",
       "  'score': 0.72254705},\n",
       " {'title': 'Best slice of pizza in Manhattan? : r/FoodNYC - Reddit',\n",
       "  'url': 'https://www.reddit.com/r/FoodNYC/comments/18pmuy1/best_slice_of_pizza_in_manhattan/',\n",
       "  'content': \"For a simple, classic New York slice that's a little better than the competition, Joe's (Carmine Street) is the place to go.\",\n",
       "  'score': 0.7031221}]"
      ]
     },
     "execution_count": 23,
     "metadata": {},
     "output_type": "execute_result"
    }
   ],
   "source": [
    "search = TavilySearchResults(max_results=5)\n",
    "search.invoke(\"Pizza in Manhattan\")"
   ]
  },
  {
   "cell_type": "code",
   "execution_count": 8,
   "metadata": {},
   "outputs": [],
   "source": [
    "from dotenv import load_dotenv\n",
    "_ = load_dotenv()"
   ]
  },
  {
   "cell_type": "code",
   "execution_count": 104,
   "metadata": {},
   "outputs": [],
   "source": [
    "from typing import TypedDict, Annotated, Tuple, Dict, List\n",
    "from langgraph.graph.message import add_messages\n",
    "from langchain.schema import Document\n",
    "import operator\n",
    "from langchain_core.messages import BaseMessage\n",
    "\n",
    "\n",
    "class AgentState(TypedDict):\n",
    "  messages: Annotated[list, add_messages]\n",
    "  search_query: str\n",
    "  context: List[Document]\n",
    "  search_results:Tuple[Union[List[Dict[str, str]], str], Dict]"
   ]
  },
  {
   "cell_type": "code",
   "execution_count": 105,
   "metadata": {},
   "outputs": [],
   "source": [
    "from langchain_huggingface.embeddings import HuggingFaceEndpointEmbeddings\n",
    "\n",
    "EMBED_MODEL_URL = \"https://klnki3w1q88gr09t.us-east-1.aws.endpoints.huggingface.cloud\"\n",
    "\n",
    "embeddings = HuggingFaceEndpointEmbeddings(\n",
    "    model=EMBED_MODEL_URL,\n",
    "    task=\"feature-extraction\",\n",
    "    huggingfacehub_api_token=os.environ[\"HF_TOKEN\"],\n",
    "    )"
   ]
  },
  {
   "cell_type": "code",
   "execution_count": 106,
   "metadata": {},
   "outputs": [
    {
     "name": "stderr",
     "output_type": "stream",
     "text": [
      "/Users/deman/Dev/Maven/MavenAIBootcamp6/AIE6-Certification-Challenge/.venv/lib/python3.13/site-packages/huggingface_hub/utils/_deprecation.py:131: FutureWarning: 'post' (from 'huggingface_hub.inference._client') is deprecated and will be removed from version '0.31.0'. Making direct POST requests to the inference server is not supported anymore. Please use task methods instead (e.g. `InferenceClient.chat_completion`). If your use case is not supported, please open an issue in https://github.com/huggingface/huggingface_hub.\n",
      "  warnings.warn(warning_message, FutureWarning)\n"
     ]
    }
   ],
   "source": [
    "client = QdrantClient(\n",
    "    url=os.environ.get('QDRANT_DB_BITTER_MAMMAL'), # Name of the qdrant cluster is bitter_mammal\n",
    "    api_key=os.environ.get('QDRANT_API_KEY_BITTER_MAMMAL'),\n",
    ")\n",
    "vector_store = QdrantVectorStore(\n",
    "    client=client,\n",
    "    collection_name=\"yelp_reviews\",\n",
    "    embedding=embeddings,\n",
    ")\n",
    "qdrant_retriever = vector_store.as_retriever()"
   ]
  },
  {
   "cell_type": "code",
   "execution_count": 107,
   "metadata": {},
   "outputs": [],
   "source": [
    "# RAG Prompt\n",
    "RAG_PROMPT = \"\"\"\n",
    "CONTEXT:\n",
    "{context}\n",
    "\n",
    "QUERY:\n",
    "{question}\n",
    "\n",
    "You are a helpful assistant. Use the available context to answer the question. If you can't answer the question, say you don't know.\n",
    "\"\"\"\n",
    "\n",
    "rag_prompt = ChatPromptTemplate.from_template(RAG_PROMPT)"
   ]
  },
  {
   "cell_type": "code",
   "execution_count": 108,
   "metadata": {},
   "outputs": [],
   "source": [
    "from langchain_openai import ChatOpenAI\n",
    "\n",
    "openai_chat_model = ChatOpenAI(model=\"gpt-4.1-mini\")"
   ]
  },
  {
   "cell_type": "code",
   "execution_count": 109,
   "metadata": {},
   "outputs": [],
   "source": [
    "from operator import itemgetter\n",
    "from langchain.schema.output_parser import StrOutputParser\n",
    "\n",
    "rag_chain = (\n",
    "    {\"context\": itemgetter(\"question\") | qdrant_retriever, \"question\": itemgetter(\"question\")}\n",
    "    | rag_prompt | openai_chat_model | StrOutputParser()\n",
    ")"
   ]
  },
  {
   "cell_type": "code",
   "execution_count": 110,
   "metadata": {},
   "outputs": [],
   "source": [
    "ASSISTANT_PROMPT = \"\"\"\n",
    "You are a foodie assistant. You can answer user's questions about food and restaurants.\n",
    "The user may occasionally ask you questions followed by a context which you can rely on to\n",
    "answer the questions. If the user has provided context, then use it to answer the question.\n",
    "\n",
    "If the question is not related to food or restaurants, you can explain your purpose to the user.\n",
    "If the user insists on an unrelated question, you must say \"I'm just a foodie-assistant, I can't answer that.\"\n",
    "\"\"\"\n",
    "\n",
    "USER_PROMPT = \"\"\"\n",
    "{question}\n",
    "\n",
    "{context}\n",
    "\"\"\""
   ]
  },
  {
   "cell_type": "code",
   "execution_count": 111,
   "metadata": {},
   "outputs": [],
   "source": [
    "ROUTER_PROMPT = \"\"\"\n",
    "You are an intelligent router. You are given below a conversation between a user and an assistant.\n",
    "Analyze the conversation and answer based on the following instructions:\n",
    "1.Decide if the user's latest message needs additional context gathered from the Internet \n",
    "or a database or restuarant names, locations and reviews. If so, answer ONLY with a SINGLE WORD: \"CONTEXT\"\n",
    "2. Otherwise, answer ONLY with the SINGLE WORD: \"ASSISTANT\"\n",
    "\n",
    "Here is the conversation between the user and the assistant:\n",
    "\n",
    "{messages}\n",
    "\"\"\"\n",
    "\n",
    "router_prompt = ChatPromptTemplate.from_template(ROUTER_PROMPT)"
   ]
  },
  {
   "cell_type": "code",
   "execution_count": 112,
   "metadata": {},
   "outputs": [],
   "source": [
    "SEARCH_FORMULATOR_PROMPT = \"\"\"\n",
    "You are an expert at formulating search queries. You are given a history of interactions between\n",
    "a user and an AI assistant. Forcus on the most recent user messages and formulate an independent search query\n",
    "which can help answer the user's question. Respond ONLY with the search query text.\n",
    "\n",
    "Here is the conversation between the user and the assistant:\n",
    "\n",
    "{messages}\n",
    "\"\"\"\n",
    "search_formulator_prompt = ChatPromptTemplate.from_template(SEARCH_FORMULATOR_PROMPT)\n"
   ]
  },
  {
   "cell_type": "code",
   "execution_count": 113,
   "metadata": {},
   "outputs": [],
   "source": [
    "def router(state: AgentState):\n",
    "    chat_model = ChatOpenAI(model=\"gpt-4.1-mini\")\n",
    "    router_chain = router_prompt | chat_model | StrOutputParser()\n",
    "    router_answer = router_chain.invoke(state[\"messages\"])\n",
    "    return router_answer"
   ]
  },
  {
   "cell_type": "code",
   "execution_count": 114,
   "metadata": {},
   "outputs": [],
   "source": [
    "def search_formulator(state: AgentState):\n",
    "    chat_model = ChatOpenAI(model=\"gpt-4.1-mini\")\n",
    "    search_formulator_chain = search_formulator_prompt | chat_model | StrOutputParser()\n",
    "    search_query = search_formulator_chain.invoke(state[\"messages\"])\n",
    "    state[\"search_query\"] = search_query\n",
    "    return state"
   ]
  },
  {
   "cell_type": "code",
   "execution_count": 115,
   "metadata": {},
   "outputs": [],
   "source": [
    "def search_engine(state: AgentState):\n",
    "    search_query = state.get(\"search_query\", \"\")\n",
    "    if search_query:\n",
    "        search_tool = TavilySearchResults(max_results=3)\n",
    "        search_results = search_tool.invoke(search_query)\n",
    "        state[\"search_results\"] = search_results\n",
    "    return state"
   ]
  },
  {
   "cell_type": "code",
   "execution_count": 116,
   "metadata": {},
   "outputs": [],
   "source": [
    "def context_retriever(state: AgentState):\n",
    "    search_query = state.get(\"search_query\", \"\")\n",
    "    if search_query:\n",
    "        results = rag_chain.invoke({\"question\": search_query})\n",
    "        state[\"context\"] = results\n",
    "    return state"
   ]
  },
  {
   "cell_type": "code",
   "execution_count": 117,
   "metadata": {},
   "outputs": [],
   "source": [
    "def assistant(state: AgentState):\n",
    "    chat_model = ChatOpenAI(model=\"gpt-4.1-mini\")\n",
    "    assistant_chain = chat_model\n",
    "    latest_message = state[\"messages\"][-1]\n",
    "    latest_message = USER_PROMPT.format(question=latest_message.content, context=str(state[\"context\"]) + str(state[\"search_results\"]))\n",
    "    state[\"messages\"][-1] = latest_message\n",
    "    # Pass a dictionary with the messages\n",
    "    response = assistant_chain.invoke(state[\"messages\"])\n",
    "    return {\"messages\": [response]}\n",
    "    "
   ]
  },
  {
   "cell_type": "code",
   "execution_count": 118,
   "metadata": {},
   "outputs": [],
   "source": [
    "graph = StateGraph(AgentState)\n",
    "\n",
    "graph.add_node(\"search_formulator\", search_formulator)\n",
    "graph.add_node(\"search_engine\", search_engine)\n",
    "graph.add_node(\"context_retriever\", context_retriever)\n",
    "graph.add_node(\"assistant\", assistant)\n",
    "\n",
    "graph.add_conditional_edges(START, router, {\n",
    "    \"CONTEXT\": \"search_formulator\",\n",
    "    \"ASSISTANT\": \"assistant\"\n",
    "})\n",
    "\n",
    "graph.add_edge(\"search_formulator\", \"search_engine\")\n",
    "graph.add_edge(\"search_engine\", \"context_retriever\")\n",
    "graph.add_edge(\"context_retriever\", \"assistant\")\n",
    "graph.add_edge(\"assistant\", END)\n",
    "\n",
    "graph = graph.compile()"
   ]
  },
  {
   "cell_type": "code",
   "execution_count": 119,
   "metadata": {},
   "outputs": [],
   "source": [
    "messages = [\n",
    "    AIMessage(content=ASSISTANT_PROMPT)\n",
    "]\n",
    "state_ = None"
   ]
  },
  {
   "cell_type": "code",
   "execution_count": 120,
   "metadata": {},
   "outputs": [],
   "source": [
    "async def invoke_graph(query:str, graph: StateGraph):\n",
    "    messages.append(HumanMessage(content=query))\n",
    "    global state_\n",
    "    state = AgentState(messages=messages, context=[], search_results=[])\n",
    "    state_ = state\n",
    "    async for chunk in graph.astream(state, stream_mode=\"updates\"):\n",
    "        for node, values in chunk.items():\n",
    "            if node == \"assistant\":\n",
    "                messages.append(values[\"messages\"][-1])\n",
    "            elif node == \"search_formulator\":\n",
    "                state_[\"search_query\"] = values[\"search_query\"]\n",
    "            elif node == \"search_engine\":\n",
    "                state_[\"search_results\"] = values[\"search_results\"]\n",
    "            elif node == \"context_retriever\":\n",
    "                state_[\"context\"] = values[\"context\"]\n",
    "            outp = f\"Receiving update from node: '{node}'\"\n",
    "            state_ = state\n",
    "            yield outp"
   ]
  },
  {
   "cell_type": "code",
   "execution_count": 121,
   "metadata": {},
   "outputs": [
    {
     "name": "stdout",
     "output_type": "stream",
     "text": [
      "Receiving update from node: 'search_formulator'\n",
      "Receiving update from node: 'search_engine'\n"
     ]
    },
    {
     "name": "stderr",
     "output_type": "stream",
     "text": [
      "/Users/deman/Dev/Maven/MavenAIBootcamp6/AIE6-Certification-Challenge/.venv/lib/python3.13/site-packages/huggingface_hub/utils/_deprecation.py:131: FutureWarning: 'post' (from 'huggingface_hub.inference._client') is deprecated and will be removed from version '0.31.0'. Making direct POST requests to the inference server is not supported anymore. Please use task methods instead (e.g. `InferenceClient.chat_completion`). If your use case is not supported, please open an issue in https://github.com/huggingface/huggingface_hub.\n",
      "  warnings.warn(warning_message, FutureWarning)\n"
     ]
    },
    {
     "name": "stdout",
     "output_type": "stream",
     "text": [
      "Receiving update from node: 'context_retriever'\n",
      "Receiving update from node: 'assistant'\n"
     ]
    }
   ],
   "source": [
    "async for outp in invoke_graph(\"What is the best pizza in New York?\", graph):\n",
    "    print(outp)"
   ]
  },
  {
   "cell_type": "code",
   "execution_count": 122,
   "metadata": {},
   "outputs": [
    {
     "data": {
      "text/plain": [
       "{'messages': [AIMessage(content='\\nYou are a foodie assistant. You can answer user\\'s questions about food and restaurants.\\nThe user may occasionally ask you questions followed by a context which you can rely on to\\nanswer the questions. If the user has provided context, then use it to answer the question.\\n\\nIf the question is not related to food or restaurants, you can explain your purpose to the user.\\nIf the user insists on an unrelated question, you must say \"I\\'m just a foodie-assistant, I can\\'t answer that.\"\\n', additional_kwargs={}, response_metadata={}, id='a1920913-8d07-4562-947f-11200b3f9cf5'),\n",
       "  HumanMessage(content='What is the best pizza in New York?', additional_kwargs={}, response_metadata={}, id='74873c3e-c5ba-4af1-9fdc-d6b1cccd5e76'),\n",
       "  AIMessage(content='Based on recent reviews and discussions from 2024, some of the best pizza options in New York City for authentic and highly-rated pizza include:\\n\\n- **Joe’s Pizza (Greenwich Village and Times Square locations):** Famous for classic New York-style slices, especially at the original spot on 7 Carmine Street.\\n- **John’s Pizza (Bleeker Street):** A longstanding Village institution since 1929, well-regarded for whole pies.\\n- **Don Antonio (Midtown):** Known for Neapolitan-style pizza with a puffy crust, a favorite near West 50th & 8th Ave.\\n- **Luigi’s (Brooklyn):** Rated around 9.3/10 by some first-timers, considered among the best pizza tried in NYC.\\n- **Cafe Europa (Bensonhurst, Brooklyn):** Noted for its wood-fired oven and fresh, homemade ingredients.\\n- **Best Pizza (Williamsburg):** Mentioned as a standout spot that might make many top lists.\\n\\nAlso, a place simply called \"New York Pizza\" was noted for good New York-style qualities, indoor dining, and wine service, though opinions there vary.\\n\\nIf you want a quintessential New York slice experience, Joe’s Pizza and John’s Pizza are classics to try. For something a little different but still superb, Luigi’s and Cafe Europa are excellent Brooklyn options. Don Antonio offers a tasty Neapolitan alternative in Midtown.\\n\\nWould you like recommendations based on a specific neighborhood or style?', additional_kwargs={'refusal': None}, response_metadata={'token_usage': {'completion_tokens': 304, 'prompt_tokens': 1277, 'total_tokens': 1581, 'completion_tokens_details': {'accepted_prediction_tokens': 0, 'audio_tokens': 0, 'reasoning_tokens': 0, 'rejected_prediction_tokens': 0}, 'prompt_tokens_details': {'audio_tokens': 0, 'cached_tokens': 0}}, 'model_name': 'gpt-4.1-mini-2025-04-14', 'system_fingerprint': 'fp_79b79be41f', 'finish_reason': 'stop', 'logprobs': None}, id='run--c1cdd5cb-b14a-4cf8-9da8-f6c5ac0ee21c-0', usage_metadata={'input_tokens': 1277, 'output_tokens': 304, 'total_tokens': 1581, 'input_token_details': {'audio': 0, 'cache_read': 0}, 'output_token_details': {'audio': 0, 'reasoning': 0}})],\n",
       " 'context': 'Based on the available reviews, New York-style pizza is appreciated for its balance of sauce and cheese, crispy yet foldable crust, and large slices reminiscent of NYC pizza experience. One reviewer mentioned a place called \"New York Pizza,\" noting it has good New York-style pizza qualities and a nice indoor dining area with wine service. However, opinions vary, with some preferring Chicago-style pizza over New York-style at the same venue, and others finding the New York-style pizza decent but not outstanding compared to other local options.\\n\\nOverall, these reviews suggest that for authentic New York-style pizza in 2024, places like New York Pizza are worth checking out, though there are other standout pizza places in the city as well. Unfortunately, no specific top-ranked New York City pizza establishments are identified in the provided context.',\n",
       " 'search_results': [{'title': 'Best Pizza - New York City Forum - Tripadvisor',\n",
       "   'url': 'https://www.tripadvisor.com/ShowTopic-g60763-i5-k14767094-Best_Pizza-New_York_City_New_York.html',\n",
       "   'content': \"May 19, 2024, 1:36 PM\\nSave\\nDon Antonio is near your hotel (west 50 st. & 8th ave.) and serves Neapolitan style pizza (puffy crust) and is considered by some to be the best pizza in midtown. It's a sitdown restaurant serving pies.\\nhttps://don-antonio-new-york.myshopify.com/\\nJoe's Pizza started in Greenwich Village but has an outpost in Times. Square\\nhttps://www.joespizzanyc.com/locations\\nReply\\nReport inappropriate content\\n\\nCasaHoffa\\nHuatulco, Mexico\\n 12,608 posts\\n 119 helpful votes [...] Re: Best Pizza\\n\\nMay 19, 2024, 1:36 PM\\nSave\\nOur favorite slice is at (the original) Joe’s Pizza at 7 Carmine Street, near 6th Avenue (AKA Avenue of the Americas).\\nBut for a whole pie, John's on Bleeker Street is the way to go. The place has been there since 1929 and is a Village institution!\\nCH\\nReply\\nReport inappropriate content\\n\\nnagito d\\n 5 posts\\n\\nRe: Best Pizza\\n\\nSep 23, 2024, 9:56 PM\\nSave\\nAngelo's Pizza might be a good pizza place\\nReply\\nReport inappropriate content [...] Destin000\\nDestin, Florida\\n 28 posts\\n 57 helpful votes\\nBest Pizza\\nMay 18, 2024, 10:37 PM\\nSave\\nWe’ve enjoyed John’s Pizza near Times Square but was wondering where else we might get the best pizza. We’ll be staying up near 55th, south of Central Park.\\nReply\\nReport inappropriate content\\n13 replies to this topic\\n1-10 of 13 replies\\nSorted by\\n« 1 2 »\\n\\nlisarose\\nWashington DC...\\n 381 posts\\n 74 helpful votes\\n\\nRe: Best Pizza\",\n",
       "   'score': 0.9145431},\n",
       "  {'title': 'Pizza Ratings from a first timer in NYC (2024) : r/FoodNYC - Reddit',\n",
       "   'url': 'https://www.reddit.com/r/FoodNYC/comments/1d6r8yf/pizza_ratings_from_a_first_timer_in_nyc_2024/',\n",
       "   'content': \"Luigi's in Brooklyn: 9.3 - best pizza I tried in NY imo. · Lucia Pizza of SoHo: 9.0 - very good. · Scarrs: 8.7 - most balanced, good crisp.\",\n",
       "   'score': 0.910998},\n",
       "  {'title': '15 Best Pizza Joints in New York City (Definitive Guide)',\n",
       "   'url': 'https://newyorkspork.com/best-pizza-new-york-city-nyc/',\n",
       "   'content': 'Lloyd says\\nSeptember 16, 2024 at 11:32 am\\nSo I love to travel for a good pizza! Phoenix Colorado New Haven all good\\nOne place I suggest for a outstanding pie is in Bensonhurst Brooklyn (of course!)\\nOn 20th Ave and 65th street resides a place named “Cafe Europa”. The brick wood fired oven with all the fresh homemade ingredients is outstanding. Give it a try and see for yourself Say hell to Marco and Sandro who are the masters of their domain\\nReply [...] By Neighborhood\\nBrooklyn\\nDUMBO\\nWilliamsburg\\n\\n\\nManhattan\\nCentral Park\\nChelsea\\nEast Village\\nFinancial District\\nWest Village\\nLower East Side\\nMidtown\\nSoHo\\nTimes Square\\nTribeca\\nUpper East Side\\nUpper West Side\\n\\n\\n\\n\\nNYC Guides\\nAbout\\nSubscribe\\n\\n\\n\\n\\nShow Offscreen Content\\nHide Offscreen Content\\n15 Best Pizza Joints in New York City (Definitive Guide)\\nBy Antonina | Updated: July 23, 2024 | 15 Comments [...] Antonina says\\nDecember 23, 2023 at 8:37 pm\\nHi Kevin, I’ve tried the pizza at Marta’s. It’s good, but didn’t make my top 15, I’ll give them another go just in case something’s changed!\\nReply\\n\\n\\n\\n\\nChris G says\\nMarch 11, 2024 at 1:40 pm\\nHey guys,\\nBe sure to try Best Pizza in Williamsburg. Just might make the list 😉\\nReply',\n",
       "   'score': 0.88420963}],\n",
       " 'search_query': 'best pizza places in New York City reviews 2024'}"
      ]
     },
     "execution_count": 122,
     "metadata": {},
     "output_type": "execute_result"
    }
   ],
   "source": [
    "state_"
   ]
  },
  {
   "cell_type": "code",
   "execution_count": 123,
   "metadata": {},
   "outputs": [
    {
     "name": "stdout",
     "output_type": "stream",
     "text": [
      "Based on recent reviews and discussions from 2024, some of the best pizza options in New York City for authentic and highly-rated pizza include:\n",
      "\n",
      "- **Joe’s Pizza (Greenwich Village and Times Square locations):** Famous for classic New York-style slices, especially at the original spot on 7 Carmine Street.\n",
      "- **John’s Pizza (Bleeker Street):** A longstanding Village institution since 1929, well-regarded for whole pies.\n",
      "- **Don Antonio (Midtown):** Known for Neapolitan-style pizza with a puffy crust, a favorite near West 50th & 8th Ave.\n",
      "- **Luigi’s (Brooklyn):** Rated around 9.3/10 by some first-timers, considered among the best pizza tried in NYC.\n",
      "- **Cafe Europa (Bensonhurst, Brooklyn):** Noted for its wood-fired oven and fresh, homemade ingredients.\n",
      "- **Best Pizza (Williamsburg):** Mentioned as a standout spot that might make many top lists.\n",
      "\n",
      "Also, a place simply called \"New York Pizza\" was noted for good New York-style qualities, indoor dining, and wine service, though opinions there vary.\n",
      "\n",
      "If you want a quintessential New York slice experience, Joe’s Pizza and John’s Pizza are classics to try. For something a little different but still superb, Luigi’s and Cafe Europa are excellent Brooklyn options. Don Antonio offers a tasty Neapolitan alternative in Midtown.\n",
      "\n",
      "Would you like recommendations based on a specific neighborhood or style?\n"
     ]
    }
   ],
   "source": [
    "print(messages[-1].content)"
   ]
  },
  {
   "cell_type": "code",
   "execution_count": 124,
   "metadata": {},
   "outputs": [
    {
     "name": "stdout",
     "output_type": "stream",
     "text": [
      "Receiving update from node: 'search_formulator'\n",
      "Receiving update from node: 'search_engine'\n"
     ]
    },
    {
     "name": "stderr",
     "output_type": "stream",
     "text": [
      "/Users/deman/Dev/Maven/MavenAIBootcamp6/AIE6-Certification-Challenge/.venv/lib/python3.13/site-packages/huggingface_hub/utils/_deprecation.py:131: FutureWarning: 'post' (from 'huggingface_hub.inference._client') is deprecated and will be removed from version '0.31.0'. Making direct POST requests to the inference server is not supported anymore. Please use task methods instead (e.g. `InferenceClient.chat_completion`). If your use case is not supported, please open an issue in https://github.com/huggingface/huggingface_hub.\n",
      "  warnings.warn(warning_message, FutureWarning)\n"
     ]
    },
    {
     "name": "stdout",
     "output_type": "stream",
     "text": [
      "Receiving update from node: 'context_retriever'\n",
      "Receiving update from node: 'assistant'\n"
     ]
    }
   ],
   "source": [
    "async for outp in invoke_graph(\"What are some reviews for Di Fara's Pizza?\", graph):\n",
    "    print(outp)"
   ]
  },
  {
   "cell_type": "code",
   "execution_count": 125,
   "metadata": {},
   "outputs": [
    {
     "name": "stdout",
     "output_type": "stream",
     "text": [
      "Here are some recent reviews for Di Fara's Pizza in Brooklyn:\n",
      "\n",
      "- One reviewer mentioned that Di Fara’s has a great New York-style pizza with a thick and crunchy crust that is somewhat cracker-like. Although NY style isn’t their favorite generally, they really enjoyed this pizza.  \n",
      "- Another reviewer on Yelp called it “amazing” and claimed it’s the best square pizza they’ve found in NYC. They noted the chunky and very flavorful sauce, and said it’s a bit messy to eat but definitely worth it.  \n",
      "- A third review praised the pepperoni pizza as the best in New York City according to their taste, highlighting the excellent herbs, spices, and sauce. They mentioned it’s pricey but worth it for the quality.\n",
      "\n",
      "Overall, Di Fara's receives strong praise for its flavorful sauce, quality ingredients, and distinctive crust, making it a top choice for many pizza lovers in NYC. Would you like me to help find the best time to visit or recommendations for specific pies there?\n"
     ]
    }
   ],
   "source": [
    "print(messages[-1].content)"
   ]
  },
  {
   "cell_type": "code",
   "execution_count": 126,
   "metadata": {},
   "outputs": [
    {
     "name": "stdout",
     "output_type": "stream",
     "text": [
      "Receiving update from node: 'search_formulator'\n",
      "Receiving update from node: 'search_engine'\n"
     ]
    },
    {
     "name": "stderr",
     "output_type": "stream",
     "text": [
      "/Users/deman/Dev/Maven/MavenAIBootcamp6/AIE6-Certification-Challenge/.venv/lib/python3.13/site-packages/huggingface_hub/utils/_deprecation.py:131: FutureWarning: 'post' (from 'huggingface_hub.inference._client') is deprecated and will be removed from version '0.31.0'. Making direct POST requests to the inference server is not supported anymore. Please use task methods instead (e.g. `InferenceClient.chat_completion`). If your use case is not supported, please open an issue in https://github.com/huggingface/huggingface_hub.\n",
      "  warnings.warn(warning_message, FutureWarning)\n"
     ]
    },
    {
     "name": "stdout",
     "output_type": "stream",
     "text": [
      "Receiving update from node: 'context_retriever'\n",
      "Receiving update from node: 'assistant'\n"
     ]
    }
   ],
   "source": [
    "async for outp in invoke_graph(\"What's the best coffee shop in Queens? What are some reveiws for it?\", graph):\n",
    "    print(outp)"
   ]
  },
  {
   "cell_type": "code",
   "execution_count": 127,
   "metadata": {},
   "outputs": [
    {
     "name": "stdout",
     "output_type": "stream",
     "text": [
      "One of the highly recommended coffee shops in Queens is **Sweetleaf Coffee Roasters**. It has a solid reputation with good reviews for its carefully roasted coffee and cozy atmosphere.\n",
      "\n",
      "Here are some highlights from reviews of Sweetleaf Coffee Roasters in Queens:\n",
      "\n",
      "- Customers often praise the quality and flavor of the coffee, noting that it’s fresh and expertly brewed.\n",
      "- The vibe is described as warm and inviting, making it a great spot to relax or work.\n",
      "- Some reviewers highlight the friendly and knowledgeable staff who help create a welcoming experience.\n",
      "\n",
      "If you want more options, other notable coffee places in Queens include **Il Primo Cafe**, **Cafe Auburndale**, and **The Well Coffee**, each with positive reviews on Yelp.\n",
      "\n",
      "Would you like recommendations tailored to a specific neighborhood in Queens or for a particular coffee style?\n"
     ]
    }
   ],
   "source": [
    "print(messages[-1].content)"
   ]
  },
  {
   "cell_type": "code",
   "execution_count": null,
   "metadata": {},
   "outputs": [],
   "source": []
  }
 ],
 "metadata": {
  "kernelspec": {
   "display_name": ".venv",
   "language": "python",
   "name": "python3"
  },
  "language_info": {
   "codemirror_mode": {
    "name": "ipython",
    "version": 3
   },
   "file_extension": ".py",
   "mimetype": "text/x-python",
   "name": "python",
   "nbconvert_exporter": "python",
   "pygments_lexer": "ipython3",
   "version": "3.13.2"
  }
 },
 "nbformat": 4,
 "nbformat_minor": 2
}
